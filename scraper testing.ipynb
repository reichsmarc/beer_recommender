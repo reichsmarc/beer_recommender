{
 "cells": [
  {
   "cell_type": "code",
   "execution_count": 49,
   "metadata": {},
   "outputs": [],
   "source": [
    "import requests\n",
    "import re\n",
    "from bs4 import BeautifulSoup"
   ]
  },
  {
   "cell_type": "code",
   "execution_count": 101,
   "metadata": {},
   "outputs": [],
   "source": [
    "base_url = 'https://www.beeradvocate.com'\n",
    "start_href = '/beer/styles/'\n",
    "response = requests.get(base_url + start_href)\n",
    "soup = BeautifulSoup(response.content,'lxml')\n",
    "tags = soup.findAll('a', attrs={'href':re.compile('^/beer/styles/[\\\\d]')})"
   ]
  },
  {
   "cell_type": "code",
   "execution_count": 102,
   "metadata": {},
   "outputs": [],
   "source": [
    "style_dict = {}\n",
    "for tag in tags:\n",
    "    beer_style = tag.text\n",
    "    href = tag.get('href')    \n",
    "    style_dict[beer_style] = base_url + href"
   ]
  },
  {
   "cell_type": "code",
   "execution_count": 103,
   "metadata": {},
   "outputs": [
    {
     "data": {
      "text/plain": [
       "{'German Bock': 'https://www.beeradvocate.com/beer/styles/32/',\n",
       " 'German Doppelbock': 'https://www.beeradvocate.com/beer/styles/35/',\n",
       " 'German Eisbock': 'https://www.beeradvocate.com/beer/styles/36/',\n",
       " 'German Maibock': 'https://www.beeradvocate.com/beer/styles/33/',\n",
       " 'German Weizenbock': 'https://www.beeradvocate.com/beer/styles/92/',\n",
       " 'American Brown Ale': 'https://www.beeradvocate.com/beer/styles/73/',\n",
       " 'English Brown Ale': 'https://www.beeradvocate.com/beer/styles/74/',\n",
       " 'English Dark Mild Ale': 'https://www.beeradvocate.com/beer/styles/75/',\n",
       " 'German Altbier': 'https://www.beeradvocate.com/beer/styles/86/',\n",
       " 'American Black Ale': 'https://www.beeradvocate.com/beer/styles/175/',\n",
       " 'Belgian Dark Ale': 'https://www.beeradvocate.com/beer/styles/119/',\n",
       " 'Belgian Dubbel': 'https://www.beeradvocate.com/beer/styles/57/',\n",
       " 'German Roggenbier': 'https://www.beeradvocate.com/beer/styles/18/',\n",
       " 'Scottish Ale': 'https://www.beeradvocate.com/beer/styles/68/',\n",
       " 'Winter Warmer': 'https://www.beeradvocate.com/beer/styles/47/',\n",
       " 'American Amber / Red Lager': 'https://www.beeradvocate.com/beer/styles/147/',\n",
       " 'European Dark Lager': 'https://www.beeradvocate.com/beer/styles/149/',\n",
       " 'German Märzen / Oktoberfest': 'https://www.beeradvocate.com/beer/styles/29/',\n",
       " 'German Rauchbier': 'https://www.beeradvocate.com/beer/styles/7/',\n",
       " 'German Schwarzbier': 'https://www.beeradvocate.com/beer/styles/31/',\n",
       " 'Munich Dunkel Lager': 'https://www.beeradvocate.com/beer/styles/46/',\n",
       " 'Vienna Lager': 'https://www.beeradvocate.com/beer/styles/30/',\n",
       " 'American Cream Ale': 'https://www.beeradvocate.com/beer/styles/6/',\n",
       " 'Bière de Champagne / Bière Brut': 'https://www.beeradvocate.com/beer/styles/141/',\n",
       " 'Braggot': 'https://www.beeradvocate.com/beer/styles/114/',\n",
       " 'California Common / Steam Beer': 'https://www.beeradvocate.com/beer/styles/132/',\n",
       " 'American Brut IPA': 'https://www.beeradvocate.com/beer/styles/199/',\n",
       " 'American Imperial IPA': 'https://www.beeradvocate.com/beer/styles/140/',\n",
       " 'American IPA': 'https://www.beeradvocate.com/beer/styles/116/',\n",
       " 'Belgian IPA': 'https://www.beeradvocate.com/beer/styles/174/',\n",
       " 'English India Pale Ale (IPA)': 'https://www.beeradvocate.com/beer/styles/150/',\n",
       " 'New England IPA': 'https://www.beeradvocate.com/beer/styles/189/',\n",
       " 'American Amber / Red Ale': 'https://www.beeradvocate.com/beer/styles/128/',\n",
       " 'American Blonde Ale': 'https://www.beeradvocate.com/beer/styles/99/',\n",
       " 'American Pale Ale (APA)': 'https://www.beeradvocate.com/beer/styles/97/',\n",
       " 'Belgian Blonde Ale ': 'https://www.beeradvocate.com/beer/styles/190/',\n",
       " 'Belgian Pale Ale': 'https://www.beeradvocate.com/beer/styles/54/',\n",
       " 'Belgian Saison': 'https://www.beeradvocate.com/beer/styles/129/',\n",
       " 'English Bitter': 'https://www.beeradvocate.com/beer/styles/98/',\n",
       " 'English Extra Special / Strong Bitter (ESB)': 'https://www.beeradvocate.com/beer/styles/66/',\n",
       " 'English Pale Ale': 'https://www.beeradvocate.com/beer/styles/154/',\n",
       " 'English Pale Mild Ale': 'https://www.beeradvocate.com/beer/styles/76/',\n",
       " 'French Bière de Garde': 'https://www.beeradvocate.com/beer/styles/127/',\n",
       " 'German Kölsch': 'https://www.beeradvocate.com/beer/styles/85/',\n",
       " 'Irish Red Ale': 'https://www.beeradvocate.com/beer/styles/161/',\n",
       " 'American Adjunct Lager': 'https://www.beeradvocate.com/beer/styles/38/',\n",
       " 'American Imperial Pilsner': 'https://www.beeradvocate.com/beer/styles/164/',\n",
       " 'American Lager': 'https://www.beeradvocate.com/beer/styles/155/',\n",
       " 'American Light Lager': 'https://www.beeradvocate.com/beer/styles/39/',\n",
       " 'American Malt Liquor': 'https://www.beeradvocate.com/beer/styles/42/',\n",
       " 'Bohemian Pilsener': 'https://www.beeradvocate.com/beer/styles/40/',\n",
       " 'European Export / Dortmunder': 'https://www.beeradvocate.com/beer/styles/20/',\n",
       " 'European Pale Lager': 'https://www.beeradvocate.com/beer/styles/37/',\n",
       " 'European Strong Lager': 'https://www.beeradvocate.com/beer/styles/43/',\n",
       " 'German Helles': 'https://www.beeradvocate.com/beer/styles/21/',\n",
       " 'German Kellerbier / Zwickelbier': 'https://www.beeradvocate.com/beer/styles/131/',\n",
       " 'German Pilsner': 'https://www.beeradvocate.com/beer/styles/41/',\n",
       " 'American Imperial Porter': 'https://www.beeradvocate.com/beer/styles/192/',\n",
       " 'American Porter': 'https://www.beeradvocate.com/beer/styles/159/',\n",
       " 'Baltic Porter': 'https://www.beeradvocate.com/beer/styles/80/',\n",
       " 'English Porter': 'https://www.beeradvocate.com/beer/styles/101/',\n",
       " 'Robust Porter ': 'https://www.beeradvocate.com/beer/styles/193/',\n",
       " 'Smoke Porter': 'https://www.beeradvocate.com/beer/styles/194/',\n",
       " 'Chile Beer': 'https://www.beeradvocate.com/beer/styles/163/',\n",
       " 'Finnish Sahti': 'https://www.beeradvocate.com/beer/styles/148/',\n",
       " 'Fruit and Field Beer': 'https://www.beeradvocate.com/beer/styles/9/',\n",
       " 'Herb and Spice Beer': 'https://www.beeradvocate.com/beer/styles/8/',\n",
       " 'Japanese Happoshu': 'https://www.beeradvocate.com/beer/styles/168/',\n",
       " 'Japanese Rice Lager': 'https://www.beeradvocate.com/beer/styles/169/',\n",
       " 'Low Alcohol Beer': 'https://www.beeradvocate.com/beer/styles/5/',\n",
       " 'Pumpkin Beer': 'https://www.beeradvocate.com/beer/styles/72/',\n",
       " 'Russian Kvass': 'https://www.beeradvocate.com/beer/styles/173/',\n",
       " 'Rye Beer': 'https://www.beeradvocate.com/beer/styles/12/',\n",
       " 'Scottish Gruit / Ancient Herbed Ale': 'https://www.beeradvocate.com/beer/styles/70/',\n",
       " 'Smoke Beer': 'https://www.beeradvocate.com/beer/styles/11/',\n",
       " 'American Imperial Stout': 'https://www.beeradvocate.com/beer/styles/157/',\n",
       " 'American Stout': 'https://www.beeradvocate.com/beer/styles/158/',\n",
       " 'English Oatmeal Stout': 'https://www.beeradvocate.com/beer/styles/69/',\n",
       " 'English Stout': 'https://www.beeradvocate.com/beer/styles/13/',\n",
       " 'English Sweet / Milk Stout': 'https://www.beeradvocate.com/beer/styles/82/',\n",
       " 'Foreign / Export Stout': 'https://www.beeradvocate.com/beer/styles/95/',\n",
       " 'Irish Dry Stout': 'https://www.beeradvocate.com/beer/styles/162/',\n",
       " 'Russian Imperial Stout': 'https://www.beeradvocate.com/beer/styles/84/',\n",
       " 'American Barleywine': 'https://www.beeradvocate.com/beer/styles/19/',\n",
       " 'American Imperial Red Ale': 'https://www.beeradvocate.com/beer/styles/191/',\n",
       " 'American Strong Ale': 'https://www.beeradvocate.com/beer/styles/78/',\n",
       " 'American Wheatwine Ale': 'https://www.beeradvocate.com/beer/styles/60/',\n",
       " 'Belgian Quadrupel (Quad)': 'https://www.beeradvocate.com/beer/styles/142/',\n",
       " 'Belgian Strong Dark Ale': 'https://www.beeradvocate.com/beer/styles/56/',\n",
       " 'Belgian Strong Pale Ale': 'https://www.beeradvocate.com/beer/styles/55/',\n",
       " 'Belgian Tripel': 'https://www.beeradvocate.com/beer/styles/58/',\n",
       " 'British Barleywine': 'https://www.beeradvocate.com/beer/styles/152/',\n",
       " 'English Old Ale': 'https://www.beeradvocate.com/beer/styles/79/',\n",
       " 'English Strong Ale': 'https://www.beeradvocate.com/beer/styles/165/',\n",
       " 'Scotch Ale / Wee Heavy': 'https://www.beeradvocate.com/beer/styles/77/',\n",
       " 'American Dark Wheat Ale': 'https://www.beeradvocate.com/beer/styles/94/',\n",
       " 'American Pale Wheat Ale': 'https://www.beeradvocate.com/beer/styles/93/',\n",
       " 'Belgian Witbier': 'https://www.beeradvocate.com/beer/styles/48/',\n",
       " 'Berliner Weisse': 'https://www.beeradvocate.com/beer/styles/87/',\n",
       " 'German Dunkelweizen': 'https://www.beeradvocate.com/beer/styles/91/',\n",
       " 'German Hefeweizen': 'https://www.beeradvocate.com/beer/styles/89/',\n",
       " 'German Kristalweizen': 'https://www.beeradvocate.com/beer/styles/90/',\n",
       " 'American Brett': 'https://www.beeradvocate.com/beer/styles/198/',\n",
       " 'American Wild Ale': 'https://www.beeradvocate.com/beer/styles/171/',\n",
       " 'Belgian Faro': 'https://www.beeradvocate.com/beer/styles/15/',\n",
       " 'Belgian Fruit Lambic': 'https://www.beeradvocate.com/beer/styles/10/',\n",
       " 'Belgian Gueuze': 'https://www.beeradvocate.com/beer/styles/14/',\n",
       " 'Belgian Lambic': 'https://www.beeradvocate.com/beer/styles/50/',\n",
       " 'Flanders Oud Bruin': 'https://www.beeradvocate.com/beer/styles/52/',\n",
       " 'Flanders Red Ale': 'https://www.beeradvocate.com/beer/styles/53/',\n",
       " 'Leipzig Gose': 'https://www.beeradvocate.com/beer/styles/16/'}"
      ]
     },
     "execution_count": 103,
     "metadata": {},
     "output_type": "execute_result"
    }
   ],
   "source": [
    "style_dict"
   ]
  },
  {
   "cell_type": "code",
   "execution_count": null,
   "metadata": {},
   "outputs": [],
   "source": []
  }
 ],
 "metadata": {
  "kernelspec": {
   "display_name": "Python 3",
   "language": "python",
   "name": "python3"
  },
  "language_info": {
   "codemirror_mode": {
    "name": "ipython",
    "version": 3
   },
   "file_extension": ".py",
   "mimetype": "text/x-python",
   "name": "python",
   "nbconvert_exporter": "python",
   "pygments_lexer": "ipython3",
   "version": "3.7.2"
  }
 },
 "nbformat": 4,
 "nbformat_minor": 2
}
