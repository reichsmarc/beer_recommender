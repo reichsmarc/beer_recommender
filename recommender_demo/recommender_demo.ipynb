{
 "cells": [
  {
   "cell_type": "code",
   "execution_count": 11,
   "metadata": {
    "collapsed": false
   },
   "outputs": [],
   "source": [
    "import pandas as pd"
   ]
  },
  {
   "cell_type": "code",
   "execution_count": 12,
   "metadata": {
    "collapsed": true
   },
   "outputs": [],
   "source": [
    "allratings = pd.read_pickle('/Users/marc/ds/metis/metisgh/beers/allratings.pkl')\n",
    "beers = pd.read_pickle('/Users/marc/ds/metis/metisgh/beers/beers.pkl')\n",
    "sims = pd.read_pickle('/Users/marc/ds/metis/metisgh/beers/awsdata/sims.pkl')"
   ]
  },
  {
   "cell_type": "code",
   "execution_count": 13,
   "metadata": {
    "collapsed": false
   },
   "outputs": [],
   "source": [
    "# Beer Search\n",
    "def findBeer(string):\n",
    "    result = beers[beers.beername.str.contains(string)][['beernum','beername','brewery','avg_review_score']]\n",
    "    result.columns = ['beernum','beername','brewery','avg_score']\n",
    "    return result\n",
    "\n",
    "def getBeernum(index):\n",
    "    return review_indices[index]\n",
    "\n",
    "def getIndex(beernum):\n",
    "    return indices.index(beernum)\n",
    "\n",
    "def getBeername(beernum):\n",
    "    return beers[beers.beernum == beernum]"
   ]
  },
  {
   "cell_type": "code",
   "execution_count": 14,
   "metadata": {
    "collapsed": true
   },
   "outputs": [],
   "source": [
    "def nearestNeighbors(beernum,df,neighbors):\n",
    "    distances = []\n",
    "    for i in df.columns:\n",
    "        if i != beernum:\n",
    "            sim = df[i][beernum]\n",
    "            distances.append((sim, i))\n",
    "    distances.sort(reverse=True)\n",
    "    return distances[:neighbors]"
   ]
  },
  {
   "cell_type": "code",
   "execution_count": 15,
   "metadata": {
    "collapsed": false
   },
   "outputs": [],
   "source": [
    "def recommendBeers(beernum=None,recommendations=3,neighbors=10,how='overall'):    \n",
    "    recs = list(set([x[1] for x in nearestNeighbors(beernum,sims,neighbors)]))\n",
    "    \n",
    "    result = allratings[allratings.beernum.isin(recs)]\n",
    "    result = result.groupby(['beernum'],as_index=False)[['beernum','avgscore','look','smell','taste','feel','overall','abv']].mean()\n",
    "    \n",
    "    beerinfo = beers[beers.beernum.isin(recs)].drop('abv',axis=1)\n",
    "    \n",
    "    output = pd.merge(beerinfo, result,  how='left', left_on=['beernum'], right_on = ['beernum'])\n",
    "    if how == 'abv':\n",
    "        output = output[['beernum','beername', 'brewery', 'style1', 'style2', 'style3','abv']]\n",
    "    else:\n",
    "        output = output[['beernum','beername', 'brewery', 'style1', 'style2', 'style3','abv'] + [how]]\n",
    "    \n",
    "    return output.sort_values(how,ascending=False)[:recommendations]"
   ]
  },
  {
   "cell_type": "markdown",
   "metadata": {},
   "source": [
    "## Beer Recommender"
   ]
  },
  {
   "cell_type": "markdown",
   "metadata": {},
   "source": [
    "### Beer Lookup"
   ]
  },
  {
   "cell_type": "code",
   "execution_count": 30,
   "metadata": {
    "collapsed": false
   },
   "outputs": [
    {
     "data": {
      "text/html": [
       "<div>\n",
       "<style>\n",
       "    .dataframe thead tr:only-child th {\n",
       "        text-align: right;\n",
       "    }\n",
       "\n",
       "    .dataframe thead th {\n",
       "        text-align: left;\n",
       "    }\n",
       "\n",
       "    .dataframe tbody tr th {\n",
       "        vertical-align: top;\n",
       "    }\n",
       "</style>\n",
       "<table border=\"1\" class=\"dataframe\">\n",
       "  <thead>\n",
       "    <tr style=\"text-align: right;\">\n",
       "      <th></th>\n",
       "      <th>beernum</th>\n",
       "      <th>beername</th>\n",
       "      <th>brewery</th>\n",
       "      <th>avg_score</th>\n",
       "    </tr>\n",
       "  </thead>\n",
       "  <tbody>\n",
       "  </tbody>\n",
       "</table>\n",
       "</div>"
      ],
      "text/plain": [
       "Empty DataFrame\n",
       "Columns: [beernum, beername, brewery, avg_score]\n",
       "Index: []"
      ]
     },
     "execution_count": 30,
     "metadata": {},
     "output_type": "execute_result"
    }
   ],
   "source": [
    "findBeer('Poker').head(10)"
   ]
  },
  {
   "cell_type": "code",
   "execution_count": 29,
   "metadata": {
    "collapsed": false
   },
   "outputs": [
    {
     "data": {
      "text/html": [
       "<div>\n",
       "<style>\n",
       "    .dataframe thead tr:only-child th {\n",
       "        text-align: right;\n",
       "    }\n",
       "\n",
       "    .dataframe thead th {\n",
       "        text-align: left;\n",
       "    }\n",
       "\n",
       "    .dataframe tbody tr th {\n",
       "        vertical-align: top;\n",
       "    }\n",
       "</style>\n",
       "<table border=\"1\" class=\"dataframe\">\n",
       "  <thead>\n",
       "    <tr style=\"text-align: right;\">\n",
       "      <th></th>\n",
       "      <th>beernum</th>\n",
       "      <th>beername</th>\n",
       "      <th>brewery</th>\n",
       "      <th>style1</th>\n",
       "      <th>style2</th>\n",
       "      <th>style3</th>\n",
       "      <th>abv</th>\n",
       "      <th>overall</th>\n",
       "    </tr>\n",
       "  </thead>\n",
       "  <tbody>\n",
       "    <tr>\n",
       "      <th>97</th>\n",
       "      <td>10817</td>\n",
       "      <td>Sapporo Mugi To Hopppu (trans. Barley And Hop)</td>\n",
       "      <td>Sapporo Breweries Ltd.</td>\n",
       "      <td>Lager</td>\n",
       "      <td>Japanese Lagers</td>\n",
       "      <td>Happoshu</td>\n",
       "      <td>0.050</td>\n",
       "      <td>4.125000</td>\n",
       "    </tr>\n",
       "    <tr>\n",
       "      <th>95</th>\n",
       "      <td>12766</td>\n",
       "      <td>Tivoli Beer</td>\n",
       "      <td>Tivoli Brewing Company</td>\n",
       "      <td>Lager</td>\n",
       "      <td>German Lagers</td>\n",
       "      <td>Munich Helles Lager</td>\n",
       "      <td>0.051</td>\n",
       "      <td>3.721154</td>\n",
       "    </tr>\n",
       "    <tr>\n",
       "      <th>30</th>\n",
       "      <td>12818</td>\n",
       "      <td>Town Lager</td>\n",
       "      <td>Linden Street Brewery</td>\n",
       "      <td>Lager</td>\n",
       "      <td>American Lagers</td>\n",
       "      <td>California Common / Steam Beer</td>\n",
       "      <td>0.045</td>\n",
       "      <td>3.666667</td>\n",
       "    </tr>\n",
       "    <tr>\n",
       "      <th>61</th>\n",
       "      <td>9706</td>\n",
       "      <td>Potosi Pilsener</td>\n",
       "      <td>Potosi Brewing Company</td>\n",
       "      <td>Lager</td>\n",
       "      <td>Czech Lagers</td>\n",
       "      <td>Czech Pilsener</td>\n",
       "      <td>0.060</td>\n",
       "      <td>3.663043</td>\n",
       "    </tr>\n",
       "    <tr>\n",
       "      <th>94</th>\n",
       "      <td>8972</td>\n",
       "      <td>Old Seattle Lager</td>\n",
       "      <td>Maritime Pacific Brewing Company</td>\n",
       "      <td>Lager</td>\n",
       "      <td>German Lagers</td>\n",
       "      <td>Munich Helles Lager</td>\n",
       "      <td>0.043</td>\n",
       "      <td>3.659091</td>\n",
       "    </tr>\n",
       "    <tr>\n",
       "      <th>88</th>\n",
       "      <td>9714</td>\n",
       "      <td>Poznan Zdjecie</td>\n",
       "      <td>Voodoo Brewery</td>\n",
       "      <td>Lager</td>\n",
       "      <td>European Lagers</td>\n",
       "      <td>Euro Strong Lager</td>\n",
       "      <td>0.063</td>\n",
       "      <td>3.625000</td>\n",
       "    </tr>\n",
       "    <tr>\n",
       "      <th>1</th>\n",
       "      <td>10348</td>\n",
       "      <td>Rod's Cream Ale</td>\n",
       "      <td>Public House Brewing Company</td>\n",
       "      <td>Ale</td>\n",
       "      <td>American Ales</td>\n",
       "      <td>Cream Ale</td>\n",
       "      <td>0.050</td>\n",
       "      <td>3.536765</td>\n",
       "    </tr>\n",
       "    <tr>\n",
       "      <th>51</th>\n",
       "      <td>8443</td>\n",
       "      <td>Narragansett Light</td>\n",
       "      <td>Narragansett Brewing Co.</td>\n",
       "      <td>Lager</td>\n",
       "      <td>American Lagers</td>\n",
       "      <td>Light Lager</td>\n",
       "      <td>0.038</td>\n",
       "      <td>3.510638</td>\n",
       "    </tr>\n",
       "    <tr>\n",
       "      <th>96</th>\n",
       "      <td>12242</td>\n",
       "      <td>Suntory Kinmugi Clear Label (金麦クリアラベル)</td>\n",
       "      <td>Suntory</td>\n",
       "      <td>Lager</td>\n",
       "      <td>Japanese Lagers</td>\n",
       "      <td>Happoshu</td>\n",
       "      <td>0.050</td>\n",
       "      <td>3.500000</td>\n",
       "    </tr>\n",
       "    <tr>\n",
       "      <th>25</th>\n",
       "      <td>12100</td>\n",
       "      <td>Straub American Lager</td>\n",
       "      <td>Straub Brewery</td>\n",
       "      <td>Lager</td>\n",
       "      <td>American Lagers</td>\n",
       "      <td>American Adjunct Lager</td>\n",
       "      <td>0.043</td>\n",
       "      <td>3.459790</td>\n",
       "    </tr>\n",
       "  </tbody>\n",
       "</table>\n",
       "</div>"
      ],
      "text/plain": [
       "    beernum                                        beername  \\\n",
       "97    10817  Sapporo Mugi To Hopppu (trans. Barley And Hop)   \n",
       "95    12766                                     Tivoli Beer   \n",
       "30    12818                                      Town Lager   \n",
       "61     9706                                 Potosi Pilsener   \n",
       "94     8972                               Old Seattle Lager   \n",
       "88     9714                                  Poznan Zdjecie   \n",
       "1     10348                                 Rod's Cream Ale   \n",
       "51     8443                              Narragansett Light   \n",
       "96    12242          Suntory Kinmugi Clear Label (金麦クリアラベル)   \n",
       "25    12100                           Straub American Lager   \n",
       "\n",
       "                              brewery style1           style2  \\\n",
       "97             Sapporo Breweries Ltd.  Lager  Japanese Lagers   \n",
       "95             Tivoli Brewing Company  Lager    German Lagers   \n",
       "30              Linden Street Brewery  Lager  American Lagers   \n",
       "61             Potosi Brewing Company  Lager     Czech Lagers   \n",
       "94   Maritime Pacific Brewing Company  Lager    German Lagers   \n",
       "88                     Voodoo Brewery  Lager  European Lagers   \n",
       "1        Public House Brewing Company    Ale    American Ales   \n",
       "51           Narragansett Brewing Co.  Lager  American Lagers   \n",
       "96                            Suntory  Lager  Japanese Lagers   \n",
       "25                     Straub Brewery  Lager  American Lagers   \n",
       "\n",
       "                            style3    abv   overall  \n",
       "97                        Happoshu  0.050  4.125000  \n",
       "95             Munich Helles Lager  0.051  3.721154  \n",
       "30  California Common / Steam Beer  0.045  3.666667  \n",
       "61                  Czech Pilsener  0.060  3.663043  \n",
       "94             Munich Helles Lager  0.043  3.659091  \n",
       "88               Euro Strong Lager  0.063  3.625000  \n",
       "1                        Cream Ale  0.050  3.536765  \n",
       "51                     Light Lager  0.038  3.510638  \n",
       "96                        Happoshu  0.050  3.500000  \n",
       "25          American Adjunct Lager  0.043  3.459790  "
      ]
     },
     "execution_count": 29,
     "metadata": {},
     "output_type": "execute_result"
    }
   ],
   "source": [
    "recommendBeers(2691,          # Beer Number\n",
    "               10,              # Number of Recommendations\n",
    "               100,             # Neighbors (Rank)\n",
    "               how='overall'   # overall, avgscore, look, smell, taste, feel, abv\n",
    "               )"
   ]
  }
 ],
 "metadata": {
  "kernelspec": {
   "display_name": "Python 3",
   "language": "python",
   "name": "python3"
  },
  "language_info": {
   "codemirror_mode": {
    "name": "ipython",
    "version": 3
   },
   "file_extension": ".py",
   "mimetype": "text/x-python",
   "name": "python",
   "nbconvert_exporter": "python",
   "pygments_lexer": "ipython3",
   "version": "3.6.0"
  }
 },
 "nbformat": 4,
 "nbformat_minor": 2
}
